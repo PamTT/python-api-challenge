{
 "cells": [
  {
   "cell_type": "markdown",
   "metadata": {},
   "source": [
    "# VacationPy\n",
    "----\n",
    "\n",
    "#### Note\n",
    "* Keep an eye on your API usage. Use https://developers.google.com/maps/reporting/gmp-reporting as reference for how to monitor your usage and billing.\n",
    "\n",
    "* Instructions have been included for each segment. You do not have to follow them exactly, but they are included to help you think through the steps."
   ]
  },
  {
   "cell_type": "code",
   "execution_count": 13,
   "metadata": {},
   "outputs": [],
   "source": [
    "# Dependencies and Setup\n",
    "import matplotlib.pyplot as plt\n",
    "import pandas as pd\n",
    "import numpy as np\n",
    "import requests\n",
    "import json\n",
    "import gmaps\n",
    "import pprint\n",
    "import time\n",
    "import os\n",
    "\n",
    "# Import API key\n",
    "from api_keys import g_key\n",
    "\n"
   ]
  },
  {
   "cell_type": "markdown",
   "metadata": {},
   "source": [
    "### Store Part I results into DataFrame\n",
    "* Load the csv exported in Part I to a DataFrame"
   ]
  },
  {
   "cell_type": "code",
   "execution_count": 2,
   "metadata": {},
   "outputs": [
    {
     "data": {
      "text/html": [
       "<div>\n",
       "<style scoped>\n",
       "    .dataframe tbody tr th:only-of-type {\n",
       "        vertical-align: middle;\n",
       "    }\n",
       "\n",
       "    .dataframe tbody tr th {\n",
       "        vertical-align: top;\n",
       "    }\n",
       "\n",
       "    .dataframe thead th {\n",
       "        text-align: right;\n",
       "    }\n",
       "</style>\n",
       "<table border=\"1\" class=\"dataframe\">\n",
       "  <thead>\n",
       "    <tr style=\"text-align: right;\">\n",
       "      <th></th>\n",
       "      <th>Unnamed: 0</th>\n",
       "      <th>city name</th>\n",
       "      <th>country</th>\n",
       "      <th>city id</th>\n",
       "      <th>latitude_deg</th>\n",
       "      <th>longitude_deg</th>\n",
       "      <th>temp_max_F</th>\n",
       "      <th>humidity_%</th>\n",
       "      <th>cloudiness_%</th>\n",
       "      <th>winds speed_mph</th>\n",
       "    </tr>\n",
       "  </thead>\n",
       "  <tbody>\n",
       "    <tr>\n",
       "      <th>0</th>\n",
       "      <td>0</td>\n",
       "      <td>Yellowknife</td>\n",
       "      <td>CA</td>\n",
       "      <td>6185377</td>\n",
       "      <td>62.46</td>\n",
       "      <td>-114.35</td>\n",
       "      <td>1.99</td>\n",
       "      <td>84</td>\n",
       "      <td>75</td>\n",
       "      <td>3.36</td>\n",
       "    </tr>\n",
       "    <tr>\n",
       "      <th>1</th>\n",
       "      <td>1</td>\n",
       "      <td>Cabo San Lucas</td>\n",
       "      <td>MX</td>\n",
       "      <td>3985710</td>\n",
       "      <td>22.89</td>\n",
       "      <td>-109.91</td>\n",
       "      <td>89.01</td>\n",
       "      <td>58</td>\n",
       "      <td>5</td>\n",
       "      <td>3.36</td>\n",
       "    </tr>\n",
       "    <tr>\n",
       "      <th>2</th>\n",
       "      <td>2</td>\n",
       "      <td>Ushuaia</td>\n",
       "      <td>AR</td>\n",
       "      <td>3833367</td>\n",
       "      <td>-54.80</td>\n",
       "      <td>-68.30</td>\n",
       "      <td>64.40</td>\n",
       "      <td>36</td>\n",
       "      <td>0</td>\n",
       "      <td>5.82</td>\n",
       "    </tr>\n",
       "    <tr>\n",
       "      <th>3</th>\n",
       "      <td>3</td>\n",
       "      <td>Hilo</td>\n",
       "      <td>US</td>\n",
       "      <td>5855927</td>\n",
       "      <td>19.73</td>\n",
       "      <td>-155.09</td>\n",
       "      <td>80.60</td>\n",
       "      <td>74</td>\n",
       "      <td>90</td>\n",
       "      <td>5.82</td>\n",
       "    </tr>\n",
       "    <tr>\n",
       "      <th>4</th>\n",
       "      <td>4</td>\n",
       "      <td>Marti</td>\n",
       "      <td>CU</td>\n",
       "      <td>3547519</td>\n",
       "      <td>22.95</td>\n",
       "      <td>-80.92</td>\n",
       "      <td>77.00</td>\n",
       "      <td>94</td>\n",
       "      <td>75</td>\n",
       "      <td>17.22</td>\n",
       "    </tr>\n",
       "  </tbody>\n",
       "</table>\n",
       "</div>"
      ],
      "text/plain": [
       "   Unnamed: 0       city name country  city id  latitude_deg  longitude_deg  \\\n",
       "0           0     Yellowknife      CA  6185377         62.46        -114.35   \n",
       "1           1  Cabo San Lucas      MX  3985710         22.89        -109.91   \n",
       "2           2         Ushuaia      AR  3833367        -54.80         -68.30   \n",
       "3           3            Hilo      US  5855927         19.73        -155.09   \n",
       "4           4           Marti      CU  3547519         22.95         -80.92   \n",
       "\n",
       "   temp_max_F  humidity_%  cloudiness_%  winds speed_mph  \n",
       "0        1.99          84            75             3.36  \n",
       "1       89.01          58             5             3.36  \n",
       "2       64.40          36             0             5.82  \n",
       "3       80.60          74            90             5.82  \n",
       "4       77.00          94            75            17.22  "
      ]
     },
     "execution_count": 2,
     "metadata": {},
     "output_type": "execute_result"
    }
   ],
   "source": [
    "# Loan CSV file generated from WeatherPy Folder\n",
    "weather_data_csv = \"../WeatherPy/output_data/output_weather_data_file.csv\"\n",
    "weather_data_df = pd.read_csv(weather_data_csv)\n",
    "weather_data_df.head()"
   ]
  },
  {
   "cell_type": "code",
   "execution_count": null,
   "metadata": {},
   "outputs": [],
   "source": []
  },
  {
   "cell_type": "markdown",
   "metadata": {},
   "source": [
    "### Humidity Heatmap\n",
    "* Configure gmaps.\n",
    "* Use the Lat and Lng as locations and Humidity as the weight.\n",
    "* Add Heatmap layer to map."
   ]
  },
  {
   "cell_type": "code",
   "execution_count": 3,
   "metadata": {
    "scrolled": true
   },
   "outputs": [],
   "source": [
    "# Configure gmaps with API key\n",
    "gmaps.configure(api_key=g_key)"
   ]
  },
  {
   "cell_type": "code",
   "execution_count": 4,
   "metadata": {},
   "outputs": [
    {
     "data": {
      "text/plain": [
       "pandas.core.series.Series"
      ]
     },
     "execution_count": 4,
     "metadata": {},
     "output_type": "execute_result"
    }
   ],
   "source": [
    "# Configure gmaps\n",
    "gmaps.configure(api_key=g_key)\n",
    "\n",
    "# Locations\n",
    "locations = weather_data_df[[\"latitude_deg\", \"longitude_deg\"]]\n",
    "#locations\n",
    "type(locations)\n",
    "## Convert humidity to float and store.  we will use it for wt.\n",
    "humidity = weather_data_df[\"humidity_%\"].astype(float)\n",
    "type(humidity)"
   ]
  },
  {
   "cell_type": "code",
   "execution_count": 5,
   "metadata": {},
   "outputs": [
    {
     "data": {
      "application/vnd.jupyter.widget-view+json": {
       "model_id": "3cb78d91be5f4151815f5f7ed390a040",
       "version_major": 2,
       "version_minor": 0
      },
      "text/plain": [
       "Figure(layout=FigureLayout(height='420px'))"
      ]
     },
     "metadata": {},
     "output_type": "display_data"
    }
   ],
   "source": [
    "#Plot heat map\n",
    "fig = gmaps.figure()\n",
    "\n",
    "# Create heat layer\n",
    "heat_layer = gmaps.heatmap_layer(locations, weights=humidity, \n",
    "                                 dissipating=False, max_intensity=50,\n",
    "                                 point_radius=2)\n",
    "# Add layer\n",
    "fig.add_layer(heat_layer)\n",
    "\n",
    "fig\n"
   ]
  },
  {
   "cell_type": "markdown",
   "metadata": {},
   "source": [
    "### Create new DataFrame fitting weather criteria\n",
    "* Narrow down the cities to fit weather conditions.\n",
    "* Drop any rows will null values."
   ]
  },
  {
   "cell_type": "code",
   "execution_count": 6,
   "metadata": {
    "scrolled": true
   },
   "outputs": [
    {
     "data": {
      "text/html": [
       "<div>\n",
       "<style scoped>\n",
       "    .dataframe tbody tr th:only-of-type {\n",
       "        vertical-align: middle;\n",
       "    }\n",
       "\n",
       "    .dataframe tbody tr th {\n",
       "        vertical-align: top;\n",
       "    }\n",
       "\n",
       "    .dataframe thead th {\n",
       "        text-align: right;\n",
       "    }\n",
       "</style>\n",
       "<table border=\"1\" class=\"dataframe\">\n",
       "  <thead>\n",
       "    <tr style=\"text-align: right;\">\n",
       "      <th></th>\n",
       "      <th>city name</th>\n",
       "      <th>country</th>\n",
       "      <th>city id</th>\n",
       "      <th>latitude_deg</th>\n",
       "      <th>longitude_deg</th>\n",
       "      <th>temp_max_F</th>\n",
       "      <th>humidity_%</th>\n",
       "      <th>cloudiness_%</th>\n",
       "      <th>winds speed_mph</th>\n",
       "      <th>hotels</th>\n",
       "    </tr>\n",
       "  </thead>\n",
       "  <tbody>\n",
       "    <tr>\n",
       "      <th>0</th>\n",
       "      <td>Pacific Grove</td>\n",
       "      <td>US</td>\n",
       "      <td>5380437</td>\n",
       "      <td>36.62</td>\n",
       "      <td>-121.92</td>\n",
       "      <td>66.99</td>\n",
       "      <td>59</td>\n",
       "      <td>1</td>\n",
       "      <td>3.36</td>\n",
       "      <td></td>\n",
       "    </tr>\n",
       "    <tr>\n",
       "      <th>1</th>\n",
       "      <td>Lompoc</td>\n",
       "      <td>US</td>\n",
       "      <td>5367788</td>\n",
       "      <td>34.64</td>\n",
       "      <td>-120.46</td>\n",
       "      <td>75.20</td>\n",
       "      <td>49</td>\n",
       "      <td>1</td>\n",
       "      <td>6.93</td>\n",
       "      <td></td>\n",
       "    </tr>\n",
       "    <tr>\n",
       "      <th>2</th>\n",
       "      <td>Touros</td>\n",
       "      <td>BR</td>\n",
       "      <td>3386213</td>\n",
       "      <td>-5.20</td>\n",
       "      <td>-35.46</td>\n",
       "      <td>86.00</td>\n",
       "      <td>58</td>\n",
       "      <td>20</td>\n",
       "      <td>17.22</td>\n",
       "      <td></td>\n",
       "    </tr>\n",
       "    <tr>\n",
       "      <th>3</th>\n",
       "      <td>Utinga</td>\n",
       "      <td>BR</td>\n",
       "      <td>3392998</td>\n",
       "      <td>-5.82</td>\n",
       "      <td>-35.40</td>\n",
       "      <td>86.00</td>\n",
       "      <td>58</td>\n",
       "      <td>20</td>\n",
       "      <td>17.22</td>\n",
       "      <td></td>\n",
       "    </tr>\n",
       "    <tr>\n",
       "      <th>4</th>\n",
       "      <td>Mar Del Plata</td>\n",
       "      <td>AR</td>\n",
       "      <td>3430863</td>\n",
       "      <td>-38.00</td>\n",
       "      <td>-57.56</td>\n",
       "      <td>69.80</td>\n",
       "      <td>49</td>\n",
       "      <td>0</td>\n",
       "      <td>19.46</td>\n",
       "      <td></td>\n",
       "    </tr>\n",
       "  </tbody>\n",
       "</table>\n",
       "</div>"
      ],
      "text/plain": [
       "       city name country  city id  latitude_deg  longitude_deg  temp_max_F  \\\n",
       "0  Pacific Grove      US  5380437         36.62        -121.92       66.99   \n",
       "1         Lompoc      US  5367788         34.64        -120.46       75.20   \n",
       "2         Touros      BR  3386213         -5.20         -35.46       86.00   \n",
       "3         Utinga      BR  3392998         -5.82         -35.40       86.00   \n",
       "4  Mar Del Plata      AR  3430863        -38.00         -57.56       69.80   \n",
       "\n",
       "   humidity_%  cloudiness_%  winds speed_mph hotels  \n",
       "0          59             1             3.36         \n",
       "1          49             1             6.93         \n",
       "2          58            20            17.22         \n",
       "3          58            20            17.22         \n",
       "4          49             0            19.46         "
      ]
     },
     "execution_count": 6,
     "metadata": {},
     "output_type": "execute_result"
    }
   ],
   "source": [
    "# Perfect vacation city = max temp = 65F-85F, humidity = 45% to 60%, cloudiness <30 \n",
    "\n",
    "city_above_65f = weather_data_df[weather_data_df[\"temp_max_F\"] > 65]\n",
    "city_65f_to_85f = city_above_65f[city_above_65f[\"temp_max_F\"] < 88]\n",
    "\n",
    "city_above_45humid =city_65f_to_85f [city_65f_to_85f [\"humidity_%\"]>45] \n",
    "city_45humid_to_60humid = city_above_45humid[city_above_45humid[\"humidity_%\"]<60]\n",
    "\n",
    "perfect_city = city_45humid_to_60humid[city_45humid_to_60humid[\"cloudiness_%\"] < 30]\n",
    "\n",
    "#perfect_city\n",
    "#del perfect_city['Unnamed: 0']\n",
    "indexed_perfect_city = perfect_city.reset_index()\n",
    "indexed_perfect_city = indexed_perfect_city.drop(['index', 'Unnamed: 0'], axis=1)\n",
    "perfect_cities = indexed_perfect_city\n",
    "perfect_cities\n",
    "\n",
    "#setup additional column\n",
    "perfect_cities[\"hotels\"]=\"\"\n",
    "\n",
    "perfect_cities.head()"
   ]
  },
  {
   "cell_type": "code",
   "execution_count": 7,
   "metadata": {},
   "outputs": [
    {
     "data": {
      "application/vnd.jupyter.widget-view+json": {
       "model_id": "be3c1bf5f9c049a4b4b45676c3c531fc",
       "version_major": 2,
       "version_minor": 0
      },
      "text/plain": [
       "Figure(layout=FigureLayout(height='420px'))"
      ]
     },
     "metadata": {},
     "output_type": "display_data"
    }
   ],
   "source": [
    "##create perfect city dataframe with location\n",
    "perfect_locations = perfect_city[[\"latitude_deg\", \"longitude_deg\"]]\n",
    "\n",
    "##create a series of perfect humidity for perfect city.  will use it for wt\n",
    "perfect_humidity = perfect_city[\"humidity_%\"].astype(float)\n",
    "\n",
    "# Plot Heatmap\n",
    "perfect_fig = gmaps.figure()\n",
    "\n",
    "# Create heat layer\n",
    "perfect_heat_layer = gmaps.heatmap_layer(perfect_locations, weights=perfect_humidity, \n",
    "                                 dissipating=False, max_intensity=50,\n",
    "                                 point_radius=2.5)\n",
    "\n",
    "# Add layer\n",
    "perfect_fig.add_layer(perfect_heat_layer)\n",
    "\n",
    "# Display figure\n",
    "perfect_fig"
   ]
  },
  {
   "cell_type": "markdown",
   "metadata": {},
   "source": [
    "### Hotel Map\n",
    "* Store into variable named `hotel_df`.\n",
    "* Add a \"Hotel Name\" column to the DataFrame.\n",
    "* Set parameters to search for hotels with 5000 meters.\n",
    "* Hit the Google Places API for each city's coordinates.\n",
    "* Store the first Hotel result into the DataFrame.\n",
    "* Plot markers on top of the heatmap."
   ]
  },
  {
   "cell_type": "code",
   "execution_count": 24,
   "metadata": {},
   "outputs": [
    {
     "name": "stdout",
     "output_type": "stream",
     "text": [
      "{'error_message': 'You have exceeded your daily request quota for this API. If you did not set a custom daily request quota, verify your project has an active billing account: http://g.co/dev/maps-no-account', 'html_attributions': [], 'results': [], 'status': 'OVER_QUERY_LIMIT'}\n",
      "{'error_message': 'You have exceeded your daily request quota for this API. If you did not set a custom daily request quota, verify your project has an active billing account: http://g.co/dev/maps-no-account', 'html_attributions': [], 'results': [], 'status': 'OVER_QUERY_LIMIT'}\n",
      "{'error_message': 'You have exceeded your daily request quota for this API. If you did not set a custom daily request quota, verify your project has an active billing account: http://g.co/dev/maps-no-account', 'html_attributions': [], 'results': [], 'status': 'OVER_QUERY_LIMIT'}\n",
      "{'error_message': 'You have exceeded your daily request quota for this API. If you did not set a custom daily request quota, verify your project has an active billing account: http://g.co/dev/maps-no-account', 'html_attributions': [], 'results': [], 'status': 'OVER_QUERY_LIMIT'}\n",
      "{'error_message': 'You have exceeded your daily request quota for this API. If you did not set a custom daily request quota, verify your project has an active billing account: http://g.co/dev/maps-no-account', 'html_attributions': [], 'results': [], 'status': 'OVER_QUERY_LIMIT'}\n",
      "{'error_message': 'You have exceeded your daily request quota for this API. If you did not set a custom daily request quota, verify your project has an active billing account: http://g.co/dev/maps-no-account', 'html_attributions': [], 'results': [], 'status': 'OVER_QUERY_LIMIT'}\n",
      "{'error_message': 'You have exceeded your daily request quota for this API. If you did not set a custom daily request quota, verify your project has an active billing account: http://g.co/dev/maps-no-account', 'html_attributions': [], 'results': [], 'status': 'OVER_QUERY_LIMIT'}\n",
      "{'error_message': 'You have exceeded your daily request quota for this API. If you did not set a custom daily request quota, verify your project has an active billing account: http://g.co/dev/maps-no-account', 'html_attributions': [], 'results': [], 'status': 'OVER_QUERY_LIMIT'}\n",
      "{'error_message': 'You have exceeded your daily request quota for this API. If you did not set a custom daily request quota, verify your project has an active billing account: http://g.co/dev/maps-no-account', 'html_attributions': [], 'results': [], 'status': 'OVER_QUERY_LIMIT'}\n",
      "{'error_message': 'You have exceeded your daily request quota for this API. If you did not set a custom daily request quota, verify your project has an active billing account: http://g.co/dev/maps-no-account', 'html_attributions': [], 'results': [], 'status': 'OVER_QUERY_LIMIT'}\n",
      "{'error_message': 'You have exceeded your daily request quota for this API. If you did not set a custom daily request quota, verify your project has an active billing account: http://g.co/dev/maps-no-account', 'html_attributions': [], 'results': [], 'status': 'OVER_QUERY_LIMIT'}\n",
      "{'error_message': 'You have exceeded your daily request quota for this API. If you did not set a custom daily request quota, verify your project has an active billing account: http://g.co/dev/maps-no-account', 'html_attributions': [], 'results': [], 'status': 'OVER_QUERY_LIMIT'}\n",
      "{'error_message': 'You have exceeded your daily request quota for this API. If you did not set a custom daily request quota, verify your project has an active billing account: http://g.co/dev/maps-no-account', 'html_attributions': [], 'results': [], 'status': 'OVER_QUERY_LIMIT'}\n",
      "{'error_message': 'You have exceeded your daily request quota for this API. If you did not set a custom daily request quota, verify your project has an active billing account: http://g.co/dev/maps-no-account', 'html_attributions': [], 'results': [], 'status': 'OVER_QUERY_LIMIT'}\n",
      "{'error_message': 'You have exceeded your daily request quota for this API. If you did not set a custom daily request quota, verify your project has an active billing account: http://g.co/dev/maps-no-account', 'html_attributions': [], 'results': [], 'status': 'OVER_QUERY_LIMIT'}\n"
     ]
    }
   ],
   "source": [
    "hotels = []\n",
    "for city in range(len(perfect_cities[\"city name\"])):\n",
    "\n",
    "    #target search\n",
    "    lat = perfect_city.loc[:,\"latitude_deg\"]\n",
    "    long = perfect_city.loc[:,\"longitude_deg\"]  \n",
    "    target_lat_long = f\"{lat},{long}\"\n",
    "    target_type = \"lodging\"\n",
    "    radius = 5000\n",
    "    \n",
    "    params = {\"location\": target_lat_long, \n",
    "        \"type\": target_type,\n",
    "        \"radius\": radius,\n",
    "        \"key\": g_key}\n",
    "\n",
    "    base_url = \"https://maps.googleapis.com/maps/api/place/nearbysearch/json\"\n",
    "    hotels_request = requests.get(base_url,params=params)\n",
    "    hotel_response = hotels_request.json()\n",
    "    print(hotel_response)\n",
    "    #try:\n",
    "        #hotels.append(hotel_response[\"results\"][0][\"name\"])\n",
    "    #except:\n",
    "        #hotels.append(\"Nearest hotel not found\")\n",
    "        \n",
    "\n",
    "        \n",
    "        \n",
    "# Dataframe with nearest hotel\n",
    "#perfect_cities[\"Nearest Hotel\"] = hotels\n",
    "#hotels\n"
   ]
  },
  {
   "cell_type": "code",
   "execution_count": null,
   "metadata": {},
   "outputs": [],
   "source": [
    "# NOTE: Do not change any of the code in this cell\n",
    "\n",
    "# Using the template add the hotel marks to the heatmap\n",
    "info_box_template = \"\"\"\n",
    "<dl>\n",
    "<dt>Name</dt><dd>{Hotel Name}</dd>\n",
    "<dt>City</dt><dd>{City}</dd>\n",
    "<dt>Country</dt><dd>{Country}</dd>\n",
    "</dl>\n",
    "\"\"\"\n",
    "# Store the DataFrame Row\n",
    "# NOTE: be sure to update with your DataFrame name\n",
    "hotel_info = [info_box_template.format(**row) for index, row in hotel_df.iterrows()]\n",
    "locations = hotel_df[[\"Lat\", \"Lng\"]]"
   ]
  },
  {
   "cell_type": "code",
   "execution_count": null,
   "metadata": {},
   "outputs": [],
   "source": [
    "# Add marker layer ontop of heat map\n",
    "\n",
    "\n",
    "# Display figure\n"
   ]
  },
  {
   "cell_type": "code",
   "execution_count": null,
   "metadata": {},
   "outputs": [],
   "source": []
  }
 ],
 "metadata": {
  "kernelspec": {
   "display_name": "Python (PythonData)",
   "language": "python",
   "name": "pythondata"
  },
  "language_info": {
   "codemirror_mode": {
    "name": "ipython",
    "version": 3
   },
   "file_extension": ".py",
   "mimetype": "text/x-python",
   "name": "python",
   "nbconvert_exporter": "python",
   "pygments_lexer": "ipython3",
   "version": "3.8.3"
  },
  "latex_envs": {
   "LaTeX_envs_menu_present": true,
   "autoclose": false,
   "autocomplete": true,
   "bibliofile": "biblio.bib",
   "cite_by": "apalike",
   "current_citInitial": 1,
   "eqLabelWithNumbers": true,
   "eqNumInitial": 1,
   "hotkeys": {
    "equation": "Ctrl-E",
    "itemize": "Ctrl-I"
   },
   "labels_anchors": false,
   "latex_user_defs": false,
   "report_style_numbering": false,
   "user_envs_cfg": false
  }
 },
 "nbformat": 4,
 "nbformat_minor": 4
}
